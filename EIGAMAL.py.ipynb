{
 "cells": [
  {
   "cell_type": "code",
   "execution_count": 1,
   "id": "195d2636",
   "metadata": {},
   "outputs": [
    {
     "name": "stdout",
     "output_type": "stream",
     "text": [
      "Enter message.CodeSpeedy\n",
      "g used= 3509868082452254472837237374249760535643623090864\n",
      "g^a used= 16536263814033654733838357709316180251095857343823\n",
      "g^k used=  16190238498824597920717950997919950845749836254483\n",
      "g^ak used=  735991700172476918742399530264094794438729512311\n",
      "Original Message= CodeSpeedy\n",
      "Encrypted Maessage= [49311443911555953555740768527694351227394877324837, 81695078719144937980406347859314522182698975866521, 73599170017247691874239953026409479443872951231100, 74335161717420168792982352556673574238311680743411, 61087311114315584255619161011919867938414549521813, 82431070419317414899148747389578616977137705378832, 74335161717420168792982352556673574238311680743411, 74335161717420168792982352556673574238311680743411, 73599170017247691874239953026409479443872951231100, 89054995720869707167830343161955470127086270989631]\n",
      "Decryted Message= CodeSpeedy\n"
     ]
    }
   ],
   "source": [
    "import random\n",
    "from math import pow\n",
    "\n",
    "a=random.randint(2,10)\n",
    "\n",
    "#To fing gcd of two numbers\n",
    "def gcd(a,b):\n",
    "    if a<b:\n",
    "        return gcd(b,a)\n",
    "    elif a%b==0:\n",
    "        return b\n",
    "    else:\n",
    "        return gcd(b,a%b)\n",
    "\n",
    "#For key generation i.e. large random number\n",
    "def gen_key(q):\n",
    "    key= random.randint(pow(10,20),q)\n",
    "    while gcd(q,key)!=1:\n",
    "        key=random.randint(pow(10,20),q)\n",
    "    return key\n",
    "\n",
    "def power(a,b,c):\n",
    "    x=1\n",
    "    y=a\n",
    "    while b>0:\n",
    "        if b%2==0:\n",
    "            x=(x*y)%c;\n",
    "        y=(y*y)%c\n",
    "        b=int(b/2)\n",
    "    return x%c\n",
    "\n",
    "#For asymetric encryption\n",
    "def encryption(msg,q,h,g):\n",
    "    ct=[]\n",
    "    k=gen_key(q)\n",
    "    s=power(h,k,q)\n",
    "    p=power(g,k,q)\n",
    "    for i in range(0,len(msg)):\n",
    "        ct.append(msg[i])\n",
    "    print(\"g^k used= \",p)\n",
    "    print(\"g^ak used= \",s)\n",
    "    for i in range(0,len(ct)):\n",
    "        ct[i]=s*ord(ct[i])\n",
    "    return ct,p\n",
    "\n",
    "#For decryption\n",
    "def decryption(ct,p,key,q):\n",
    "    pt=[]\n",
    "    h=power(p,key,q)\n",
    "    for i in range(0,len(ct)):\n",
    "        pt.append(chr(int(ct[i]/h)))\n",
    "    return pt\n",
    "\n",
    "\n",
    "msg=input(\"Enter message.\")\n",
    "q=random.randint(pow(10,20),pow(10,50))\n",
    "g=random.randint(2,q)\n",
    "key=gen_key(q)\n",
    "h=power(g,key,q)\n",
    "print(\"g used=\",g)\n",
    "print(\"g^a used=\",h)\n",
    "ct,p=encryption(msg,q,h,g)\n",
    "print(\"Original Message=\",msg)\n",
    "print(\"Encrypted Maessage=\",ct)\n",
    "pt=decryption(ct,p,key,q)\n",
    "d_msg=''.join(pt)\n",
    "print(\"Decryted Message=\",d_msg)"
   ]
  },
  {
   "cell_type": "code",
   "execution_count": null,
   "id": "d980ac67",
   "metadata": {},
   "outputs": [],
   "source": []
  }
 ],
 "metadata": {
  "kernelspec": {
   "display_name": "Python 3 (ipykernel)",
   "language": "python",
   "name": "python3"
  },
  "language_info": {
   "codemirror_mode": {
    "name": "ipython",
    "version": 3
   },
   "file_extension": ".py",
   "mimetype": "text/x-python",
   "name": "python",
   "nbconvert_exporter": "python",
   "pygments_lexer": "ipython3",
   "version": "3.7.2"
  }
 },
 "nbformat": 4,
 "nbformat_minor": 5
}
