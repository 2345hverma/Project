{
 "cells": [
  {
   "cell_type": "code",
   "execution_count": 5,
   "id": "3ca5123e",
   "metadata": {},
   "outputs": [],
   "source": [
    "def stegnog(text):\n",
    "    \n",
    "    res = ''.join(format(i, 'b') for i in bytearray(text, encoding ='utf-8'))     #coverting text into binary format\n",
    "    print(res)\n",
    "    print(\"The string after binary conversion : \" + (res))   \n",
    "    length = len(res)\n",
    "    print(length)\n",
    "        \n",
    "    file1 = open(\"test.txt\",\"r\") \n",
    "    file2 = open(\"Steg.txt\",\"w+\") \n",
    "    \n",
    "    count = 0\n",
    "    while True:                 #Coverting the text file to steg file\n",
    "    # read line\n",
    "        data = file1.readline()\n",
    "        if(count<length):   \n",
    "            if(res[count]=='1'):    # if Current bit is one\n",
    "                data=data[0].lower() + data[1:]  # First letter of line converted to lowercase\n",
    "        file2.write(data)\n",
    "        count=count+1\n",
    "        if not data:\n",
    "            break"
   ]
  },
  {
   "cell_type": "code",
   "execution_count": 6,
   "id": "bdeb90ba",
   "metadata": {},
   "outputs": [],
   "source": [
    "def desteg():\n",
    "    \n",
    "     crypto =''\n",
    "     file2 = open(\"Steg.txt\",\"r\") \n",
    "   \n",
    "     while True:\n",
    "        data = file2.readline()\n",
    "        if not data:\n",
    "            break\n",
    "        if(data[0].isupper()):           #getting hidden message from text file by checking first letter in everyline is lower or upper case\n",
    "            crypto=crypto+'0'\n",
    "        else:\n",
    "            crypto=crypto+'1'\n",
    "      \n",
    "        \n",
    "        \n",
    "     print(\"Encrypted Code Bits:\") \n",
    "     print(crypto)\n",
    "     lengthcr = len(crypto)\n",
    "     print(lengthcr)\n",
    "     \n",
    "     first=''\n",
    "     for i in range(0, lengthcr,7):\n",
    "         num=0\n",
    "         \n",
    "         num=num+int(crypto[i+0])*64\n",
    "         if(i+1<lengthcr):\n",
    "             num=num+int(crypto[i+1])*32\n",
    "         if(i+2<lengthcr):\n",
    "             num=num+int(crypto[i+2])*16\n",
    "         if(i+3<lengthcr):\n",
    "             num=num+int(crypto[i+3])*8\n",
    "         if(i+4<lengthcr):\n",
    "             num=num+int(crypto[i+4])*4\n",
    "         if(i+5<lengthcr):\n",
    "             num=num+int(crypto[i+5])*2\n",
    "         if(i+6<lengthcr):\n",
    "             num=num+int(crypto[i+6])*1\n",
    "         if(num>64):\n",
    "             charac = chr(num)\n",
    "             first=first+charac\n",
    "         if(num==0):\n",
    "             break;\n",
    "        \n",
    "     print(first)   \n",
    "     return first\n"
   ]
  },
  {
   "cell_type": "code",
   "execution_count": 7,
   "id": "a3726241",
   "metadata": {},
   "outputs": [
    {
     "name": "stdout",
     "output_type": "stream",
     "text": [
      "Himanshu\n",
      "10010001101001110110111000011101110111001111010001110101\n",
      "The string after binary conversion : 10010001101001110110111000011101110111001111010001110101\n",
      "56\n"
     ]
    }
   ],
   "source": [
    "plaintext=str(input())\n",
    "stegnog(plaintext)\n"
   ]
  },
  {
   "cell_type": "code",
   "execution_count": 8,
   "id": "61fa032b",
   "metadata": {},
   "outputs": [
    {
     "name": "stdout",
     "output_type": "stream",
     "text": [
      "Encrypted Code Bits:\n",
      "1001000110100111011011100001110111011100111101000111010100000000000000000000000000000000000000000000000000000000000000000000000000000000000000000000000000000000\n",
      "160\n",
      "Himanshu\n",
      "Message After Uncovering File:  Himanshu\n"
     ]
    }
   ],
   "source": [
    "decrypted=desteg() \n",
    "print(\"Message After Uncovering File: \",decrypted)"
   ]
  },
  {
   "cell_type": "code",
   "execution_count": null,
   "id": "58af276e",
   "metadata": {},
   "outputs": [],
   "source": []
  }
 ],
 "metadata": {
  "kernelspec": {
   "display_name": "Python 3 (ipykernel)",
   "language": "python",
   "name": "python3"
  },
  "language_info": {
   "codemirror_mode": {
    "name": "ipython",
    "version": 3
   },
   "file_extension": ".py",
   "mimetype": "text/x-python",
   "name": "python",
   "nbconvert_exporter": "python",
   "pygments_lexer": "ipython3",
   "version": "3.7.2"
  }
 },
 "nbformat": 4,
 "nbformat_minor": 5
}
